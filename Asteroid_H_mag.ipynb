{
 "cells": [
  {
   "cell_type": "code",
   "execution_count": 1,
   "id": "cc372159-cc98-4cd6-b1a6-ddd8ee1a1607",
   "metadata": {},
   "outputs": [],
   "source": [
    "import H_mag_funcs\n",
    "\n",
    "from astroquery.mpc import MPC\n",
    "from pprint import pprint"
   ]
  },
  {
   "cell_type": "markdown",
   "id": "2aa0573c-7d2b-4104-928d-108fbd7554c8",
   "metadata": {},
   "source": [
    "## For one asteroid"
   ]
  },
  {
   "cell_type": "code",
   "execution_count": 5,
   "id": "bb0b4130-2263-46ee-9719-9de71f192c2c",
   "metadata": {},
   "outputs": [
    {
     "name": "stderr",
     "output_type": "stream",
     "text": [
      "C:\\Users\\nagai\\Documents\\Asteroid work\\H_mag_funcs.py:180: RuntimeWarning: invalid value encountered in log10\n",
      "  V = H - 2.5 * np.log10((1 - G) * phi1 + G * phi2)\n"
     ]
    },
    {
     "name": "stdout",
     "output_type": "stream",
     "text": [
      "Average displacement HG1G2:  0.23649337900124934\n",
      "Average displacement HG:  0.2372588694853448\n"
     ]
    }
   ],
   "source": [
    "path = r\"C:\\Users\\nagai\\Documents\\Asteroid_excel_sheets\\\\\"\n",
    "excel_file = '1740-excelBF.xlsx'\n",
    "\n",
    "save_fig = False\n",
    "save_path = r\"C:\\Users\\nagai\\Documents\\Asteroid work\\\\\"\n",
    "\n",
    "asteroid_numb = \"1740\"\n",
    "result = MPC.query_object('asteroid', number = asteroid_numb)\n",
    "H_MPC = float(result[0]['absolute_magnitude'])\n",
    "# saves the HG and HG1G2 displacement\n",
    "H_displacement_list = H_mag_funcs.main(path, excel_file, asteroid_numb, H_MPC, contamination = 0.02, outlier_removing= False, plot_bool = False)"
   ]
  },
  {
   "cell_type": "markdown",
   "id": "a7702d37-0a6f-4c4f-81d1-bd7be2bbc22c",
   "metadata": {},
   "source": [
    "## For a list of asteroids"
   ]
  },
  {
   "cell_type": "code",
   "execution_count": 6,
   "id": "deb94e8a-c281-4b90-876b-eb1bdb8be9f4",
   "metadata": {},
   "outputs": [],
   "source": [
    "# put down the names of the excel files for each of the asteroids\n",
    "excel_list = [\"1205-excelBF\", \"1740-excelBF\", \"1818-excelB\", \"2607-excelB\", \n",
    "             \"2680-excelB\", \"2817-excelB\", \"2899-excelB\", \"3098-excelB\"]\n"
   ]
  },
  {
   "cell_type": "code",
   "execution_count": 7,
   "id": "c74a81db-9c89-43b4-ab79-007847137625",
   "metadata": {},
   "outputs": [
    {
     "name": "stdout",
     "output_type": "stream",
     "text": [
      "Average displacement HG1G2:  0.08304786782617679\n",
      "Average displacement HG:  0.0857918396342674\n"
     ]
    },
    {
     "name": "stderr",
     "output_type": "stream",
     "text": [
      "C:\\Users\\nagai\\Documents\\Asteroid work\\H_mag_funcs.py:180: RuntimeWarning: invalid value encountered in log10\n",
      "  V = H - 2.5 * np.log10((1 - G) * phi1 + G * phi2)\n"
     ]
    },
    {
     "name": "stdout",
     "output_type": "stream",
     "text": [
      "Average displacement HG1G2:  0.23649337900124934\n",
      "Average displacement HG:  0.2372588694853448\n"
     ]
    },
    {
     "name": "stderr",
     "output_type": "stream",
     "text": [
      "C:\\Users\\nagai\\Documents\\Asteroid work\\H_mag_funcs.py:180: RuntimeWarning: invalid value encountered in log10\n",
      "  V = H - 2.5 * np.log10((1 - G) * phi1 + G * phi2)\n"
     ]
    },
    {
     "name": "stdout",
     "output_type": "stream",
     "text": [
      "Average displacement HG1G2:  3.7594695866990078\n",
      "Average displacement HG:  3.7547821815158855\n",
      "Average displacement HG1G2:  0.0007378088243967795\n",
      "Average displacement HG:  0.00020573410717972251\n",
      "Average displacement HG1G2:  -0.004814668099371033\n",
      "Average displacement HG:  -0.0036543392314003498\n",
      "Average displacement HG1G2:  0.03484020311321068\n",
      "Average displacement HG:  0.02790366713257164\n",
      "Average displacement HG1G2:  -0.00016086009883942154\n",
      "Average displacement HG:  0.000837429735269346\n",
      "Average displacement HG1G2:  -0.007329775491630386\n",
      "Average displacement HG:  -0.004582976116983772\n"
     ]
    }
   ],
   "source": [
    "H_dis_list = []\n",
    "for excel_name in excel_list:\n",
    "    asteroid_numb = excel_name.split(\"-\")[0]\n",
    "    result = MPC.query_object('asteroid', number = asteroid_numb)\n",
    "    H_MPC = float(result[0]['absolute_magnitude'])\n",
    "    # saves the HG and HG1G2 displacement\n",
    "    H_displacement = H_mag_funcs.main(path, excel_name + \".xlsx\", asteroid_numb, H_MPC, contamination = 0.02, outlier_removing= False, plot_bool = False)\n",
    "    H_dis_list.append(H_displacement)\n"
   ]
  },
  {
   "cell_type": "code",
   "execution_count": 8,
   "id": "cb83b024-0a5b-4bdc-90e1-94da499e5f12",
   "metadata": {},
   "outputs": [
    {
     "name": "stdout",
     "output_type": "stream",
     "text": [
      "Displacement needed for HG method: 0.014370548433920494\n",
      "Displacement needed for HG1G2 method: 0.01778900596880373\n"
     ]
    }
   ],
   "source": [
    "import numpy as np\n",
    "H_dis_list = np.array(H_dis_list)\n",
    "print (\"Displacement needed for HG method:\", np.median(H_dis_list[:,0]))\n",
    "print (\"Displacement needed for HG1G2 method:\", np.median(H_dis_list[:,1]))"
   ]
  },
  {
   "cell_type": "code",
   "execution_count": null,
   "id": "2ce829c2-9402-41e3-b992-aa8b839ec95f",
   "metadata": {},
   "outputs": [],
   "source": []
  },
  {
   "cell_type": "code",
   "execution_count": null,
   "id": "3de1e273-78a9-479a-a40e-2169aed870aa",
   "metadata": {},
   "outputs": [],
   "source": []
  },
  {
   "cell_type": "code",
   "execution_count": null,
   "id": "55b4654e-7fb3-4fa4-a940-6955bc168da6",
   "metadata": {},
   "outputs": [],
   "source": []
  }
 ],
 "metadata": {
  "kernelspec": {
   "display_name": "Python (phunk_env)",
   "language": "python",
   "name": "new_env"
  },
  "language_info": {
   "codemirror_mode": {
    "name": "ipython",
    "version": 3
   },
   "file_extension": ".py",
   "mimetype": "text/x-python",
   "name": "python",
   "nbconvert_exporter": "python",
   "pygments_lexer": "ipython3",
   "version": "3.9.12"
  }
 },
 "nbformat": 4,
 "nbformat_minor": 5
}
